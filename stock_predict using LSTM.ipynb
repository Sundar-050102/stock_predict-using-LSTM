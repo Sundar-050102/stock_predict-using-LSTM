{
 "cells": [
  {
   "cell_type": "code",
   "execution_count": 1,
   "id": "745889ff",
   "metadata": {},
   "outputs": [],
   "source": [
    "#Import necessary Libraries\n",
    "import pandas as pd\n",
    "import numpy as np\n",
    "import math\n",
    "import matplotlib.pyplot as plt\n",
    "from sklearn.preprocessing import MinMaxScaler\n",
    "from sklearn.metrics import mean_squared_error"
   ]
  },
  {
   "cell_type": "code",
   "execution_count": 2,
   "id": "8015e5ad",
   "metadata": {},
   "outputs": [],
   "source": [
    "import tensorflow\n",
    "import tensorflow as tf\n",
    "from tensorflow.python.keras.models import Sequential\n",
    "from tensorflow.python.keras.layers import Dense\n",
    "from tensorflow.python.keras.layers import LSTM\n",
    "%matplotlib inline"
   ]
  },
  {
   "cell_type": "code",
   "execution_count": 3,
   "id": "d57a0364",
   "metadata": {},
   "outputs": [],
   "source": [
    "df=pd.read_csv(\"newstock.csv\")"
   ]
  },
  {
   "cell_type": "code",
   "execution_count": 16,
   "id": "485d20d3",
   "metadata": {},
   "outputs": [
    {
     "data": {
      "text/html": [
       "<div>\n",
       "<style scoped>\n",
       "    .dataframe tbody tr th:only-of-type {\n",
       "        vertical-align: middle;\n",
       "    }\n",
       "\n",
       "    .dataframe tbody tr th {\n",
       "        vertical-align: top;\n",
       "    }\n",
       "\n",
       "    .dataframe thead th {\n",
       "        text-align: right;\n",
       "    }\n",
       "</style>\n",
       "<table border=\"1\" class=\"dataframe\">\n",
       "  <thead>\n",
       "    <tr style=\"text-align: right;\">\n",
       "      <th></th>\n",
       "      <th>Date</th>\n",
       "      <th>Open</th>\n",
       "      <th>High</th>\n",
       "      <th>Low</th>\n",
       "      <th>Close</th>\n",
       "      <th>Adj Close</th>\n",
       "      <th>Volume</th>\n",
       "    </tr>\n",
       "  </thead>\n",
       "  <tbody>\n",
       "    <tr>\n",
       "      <th>0</th>\n",
       "      <td>08-06-2015</td>\n",
       "      <td>453.399994</td>\n",
       "      <td>455.000000</td>\n",
       "      <td>441.549988</td>\n",
       "      <td>442.725006</td>\n",
       "      <td>425.550629</td>\n",
       "      <td>4958862.0</td>\n",
       "    </tr>\n",
       "    <tr>\n",
       "      <th>1</th>\n",
       "      <td>09-06-2015</td>\n",
       "      <td>441.774994</td>\n",
       "      <td>445.325012</td>\n",
       "      <td>438.674988</td>\n",
       "      <td>441.850006</td>\n",
       "      <td>424.709564</td>\n",
       "      <td>4184606.0</td>\n",
       "    </tr>\n",
       "    <tr>\n",
       "      <th>2</th>\n",
       "      <td>10-06-2015</td>\n",
       "      <td>443.000000</td>\n",
       "      <td>454.950012</td>\n",
       "      <td>442.500000</td>\n",
       "      <td>452.899994</td>\n",
       "      <td>435.330933</td>\n",
       "      <td>6176034.0</td>\n",
       "    </tr>\n",
       "    <tr>\n",
       "      <th>3</th>\n",
       "      <td>11-06-2015</td>\n",
       "      <td>453.000000</td>\n",
       "      <td>454.750000</td>\n",
       "      <td>436.825012</td>\n",
       "      <td>438.575012</td>\n",
       "      <td>421.561676</td>\n",
       "      <td>6709574.0</td>\n",
       "    </tr>\n",
       "    <tr>\n",
       "      <th>4</th>\n",
       "      <td>12-06-2015</td>\n",
       "      <td>439.500000</td>\n",
       "      <td>446.350006</td>\n",
       "      <td>439.125000</td>\n",
       "      <td>444.924988</td>\n",
       "      <td>427.665283</td>\n",
       "      <td>9849112.0</td>\n",
       "    </tr>\n",
       "  </tbody>\n",
       "</table>\n",
       "</div>"
      ],
      "text/plain": [
       "         Date        Open        High         Low       Close   Adj Close  \\\n",
       "0  08-06-2015  453.399994  455.000000  441.549988  442.725006  425.550629   \n",
       "1  09-06-2015  441.774994  445.325012  438.674988  441.850006  424.709564   \n",
       "2  10-06-2015  443.000000  454.950012  442.500000  452.899994  435.330933   \n",
       "3  11-06-2015  453.000000  454.750000  436.825012  438.575012  421.561676   \n",
       "4  12-06-2015  439.500000  446.350006  439.125000  444.924988  427.665283   \n",
       "\n",
       "      Volume  \n",
       "0  4958862.0  \n",
       "1  4184606.0  \n",
       "2  6176034.0  \n",
       "3  6709574.0  \n",
       "4  9849112.0  "
      ]
     },
     "execution_count": 16,
     "metadata": {},
     "output_type": "execute_result"
    }
   ],
   "source": [
    "df.head()"
   ]
  },
  {
   "cell_type": "code",
   "execution_count": 14,
   "id": "4b3967ad",
   "metadata": {},
   "outputs": [
    {
     "data": {
      "text/plain": [
       "Date         0\n",
       "Open         0\n",
       "High         0\n",
       "Low          0\n",
       "Close        0\n",
       "Adj Close    0\n",
       "Volume       0\n",
       "dtype: int64"
      ]
     },
     "execution_count": 14,
     "metadata": {},
     "output_type": "execute_result"
    }
   ],
   "source": [
    "df.isnull().sum()"
   ]
  },
  {
   "cell_type": "code",
   "execution_count": 15,
   "id": "994a6925",
   "metadata": {},
   "outputs": [
    {
     "data": {
      "text/plain": [
       "(1228, 7)"
      ]
     },
     "execution_count": 15,
     "metadata": {},
     "output_type": "execute_result"
    }
   ],
   "source": [
    "df.shape"
   ]
  },
  {
   "cell_type": "code",
   "execution_count": 19,
   "id": "ad3875b8",
   "metadata": {},
   "outputs": [],
   "source": [
    "df_close = df['Close']"
   ]
  },
  {
   "cell_type": "code",
   "execution_count": 20,
   "id": "9ef59626",
   "metadata": {},
   "outputs": [
    {
     "data": {
      "text/plain": [
       "(1228,)"
      ]
     },
     "execution_count": 20,
     "metadata": {},
     "output_type": "execute_result"
    }
   ],
   "source": [
    "df_close.shape"
   ]
  },
  {
   "cell_type": "code",
   "execution_count": 21,
   "id": "58927a54",
   "metadata": {},
   "outputs": [
    {
     "data": {
      "text/plain": [
       "[<matplotlib.lines.Line2D at 0x1952e73c1c0>]"
      ]
     },
     "execution_count": 21,
     "metadata": {},
     "output_type": "execute_result"
    },
    {
     "data": {
      "image/png": "[encoded data removed]",
      "text/plain": [
       "<Figure size 432x288 with 1 Axes>"
      ]
     },
     "metadata": {
      "needs_background": "light"
     },
     "output_type": "display_data"
    }
   ],
   "source": [
    "plt.plot(df_close)"
   ]
  },
  {
   "cell_type": "code",
   "execution_count": 22,
   "id": "d5f94171",
   "metadata": {},
   "outputs": [],
   "source": [
    "# we apply MinMax Scaler to transform our values between 0 and 1\n",
    "scaler = MinMaxScaler(feature_range = (0,1))\n",
    "df_close = scaler.fit_transform(np.array(df_close).reshape(-1,1))"
   ]
  },
  {
   "cell_type": "code",
   "execution_count": 23,
   "id": "5dc43869",
   "metadata": {},
   "outputs": [
    {
     "data": {
      "text/plain": [
       "(1228, 1)"
      ]
     },
     "execution_count": 23,
     "metadata": {},
     "output_type": "execute_result"
    }
   ],
   "source": [
    "df_close.shape"
   ]
  },
  {
   "cell_type": "code",
   "execution_count": 24,
   "id": "b788ff34",
   "metadata": {},
   "outputs": [
    {
     "data": {
      "text/plain": [
       "array([[0.02338571],\n",
       "       [0.0226536 ],\n",
       "       [0.0318991 ],\n",
       "       ...,\n",
       "       [0.94285362],\n",
       "       [0.97477365],\n",
       "       [0.97636329]])"
      ]
     },
     "execution_count": 24,
     "metadata": {},
     "output_type": "execute_result"
    }
   ],
   "source": [
    "df_close"
   ]
  },
  {
   "cell_type": "code",
   "execution_count": 25,
   "id": "5de08da8",
   "metadata": {},
   "outputs": [],
   "source": [
    "#Split the data into train and test split\n",
    "training_size = int(len(df_close) * 0.75)\n",
    "test_size = len(df_close) - training_size\n",
    "train_data, test_data = df_close[0:training_size,:], df_close[training_size:len(df_close),:1]"
   ]
  },
  {
   "cell_type": "code",
   "execution_count": 26,
   "id": "c7f83a8c",
   "metadata": {},
   "outputs": [],
   "source": [
    "def create_dataset(dataset, time_step = 1):\n",
    "    dataX, dataY = [], []\n",
    "    for i in range(len(dataset) - time_step - 1):\n",
    "        a = dataset[i:(i+time_step), 0]\n",
    "        dataX.append(a)\n",
    "        dataY.append(dataset[i+time_step, 0])\n",
    "    return np.array(dataX), np.array(dataY)"
   ]
  },
  {
   "cell_type": "code",
   "execution_count": 27,
   "id": "c7e7de02",
   "metadata": {},
   "outputs": [],
   "source": [
    "time_step = 100\n",
    "x_train, y_train = create_dataset(train_data, time_step)\n",
    "x_test, y_test = create_dataset(test_data, time_step)"
   ]
  },
  {
   "cell_type": "code",
   "execution_count": 28,
   "id": "122eebc0",
   "metadata": {},
   "outputs": [],
   "source": [
    "#Reshape the input to be [samples, time steps, features] which is the requirement of LSTM\n",
    "x_train = x_train.reshape(x_train.shape[0], x_train.shape[1], 1)\n",
    "x_test = x_test.reshape(x_test.shape[0], x_test.shape[1], 1)"
   ]
  },
  {
   "cell_type": "code",
   "execution_count": 29,
   "id": "8924e6f3",
   "metadata": {},
   "outputs": [],
   "source": [
    "#Create the LSTM Model\n",
    "model = Sequential()\n",
    "model.add(LSTM(50, return_sequences = True, input_shape = (100,1)))\n",
    "model.add(LSTM(50, return_sequences = True))\n",
    "model.add(LSTM(50))\n",
    "model.add(Dense(1))\n",
    "model.compile(loss = 'mean_squared_error', optimizer = 'adam')"
   ]
  },
  {
   "cell_type": "code",
   "execution_count": 30,
   "id": "ee8e9cc1",
   "metadata": {},
   "outputs": [
    {
     "name": "stdout",
     "output_type": "stream",
     "text": [
      "Model: \"sequential\"\n",
      "_________________________________________________________________\n",
      "Layer (type)                 Output Shape              Param #   \n",
      "=================================================================\n",
      "lstm (LSTM)                  (None, 100, 50)           10400     \n",
      "_________________________________________________________________\n",
      "lstm_1 (LSTM)                (None, 100, 50)           20200     \n",
      "_________________________________________________________________\n",
      "lstm_2 (LSTM)                (None, 50)                20200     \n",
      "_________________________________________________________________\n",
      "dense (Dense)                (None, 1)                 51        \n",
      "=================================================================\n",
      "Total params: 50,851\n",
      "Trainable params: 50,851\n",
      "Non-trainable params: 0\n",
      "_________________________________________________________________\n"
     ]
    }
   ],
   "source": [
    "model.summary()"
   ]
  },
  {
   "cell_type": "code",
   "execution_count": 31,
   "id": "a085e7a5",
   "metadata": {},
   "outputs": [
    {
     "name": "stdout",
     "output_type": "stream",
     "text": [
      "Epoch 1/100\n",
      "13/13 [==============================] - 13s 384ms/step - loss: 0.0539 - val_loss: 0.0217\n",
      "Epoch 2/100\n",
      "13/13 [==============================] - 4s 316ms/step - loss: 0.0087 - val_loss: 0.0099\n",
      "Epoch 3/100\n",
      "13/13 [==============================] - 4s 321ms/step - loss: 0.0027 - val_loss: 0.0121\n",
      "Epoch 4/100\n",
      "13/13 [==============================] - 4s 309ms/step - loss: 0.0018 - val_loss: 0.0132\n",
      "Epoch 5/100\n",
      "13/13 [==============================] - 4s 301ms/step - loss: 0.0014 - val_loss: 0.0097\n",
      "Epoch 6/100\n",
      "13/13 [==============================] - 4s 303ms/step - loss: 0.0012 - val_loss: 0.0097\n",
      "Epoch 7/100\n",
      "13/13 [==============================] - 4s 304ms/step - loss: 0.0012 - val_loss: 0.0095\n",
      "Epoch 8/100\n",
      "13/13 [==============================] - 4s 298ms/step - loss: 0.0012 - val_loss: 0.0089\n",
      "Epoch 9/100\n",
      "13/13 [==============================] - 4s 295ms/step - loss: 0.0011 - val_loss: 0.0092\n",
      "Epoch 10/100\n",
      "13/13 [==============================] - 4s 295ms/step - loss: 0.0010 - val_loss: 0.0097\n",
      "Epoch 11/100\n",
      "13/13 [==============================] - 4s 294ms/step - loss: 9.8589e-04 - val_loss: 0.0090\n",
      "Epoch 12/100\n",
      "13/13 [==============================] - 4s 296ms/step - loss: 9.4850e-04 - val_loss: 0.0084\n",
      "Epoch 13/100\n",
      "13/13 [==============================] - 4s 295ms/step - loss: 9.0605e-04 - val_loss: 0.0085\n",
      "Epoch 14/100\n",
      "13/13 [==============================] - 4s 299ms/step - loss: 8.9641e-04 - val_loss: 0.0084\n",
      "Epoch 15/100\n",
      "13/13 [==============================] - 4s 297ms/step - loss: 8.8445e-04 - val_loss: 0.0086\n",
      "Epoch 16/100\n",
      "13/13 [==============================] - 4s 297ms/step - loss: 8.6868e-04 - val_loss: 0.0080\n",
      "Epoch 17/100\n",
      "13/13 [==============================] - 4s 296ms/step - loss: 8.5743e-04 - val_loss: 0.0081\n",
      "Epoch 18/100\n",
      "13/13 [==============================] - 4s 296ms/step - loss: 8.4894e-04 - val_loss: 0.0082\n",
      "Epoch 19/100\n",
      "13/13 [==============================] - 4s 296ms/step - loss: 8.9517e-04 - val_loss: 0.0070\n",
      "Epoch 20/100\n",
      "13/13 [==============================] - 4s 295ms/step - loss: 9.4332e-04 - val_loss: 0.0070\n",
      "Epoch 21/100\n",
      "13/13 [==============================] - 4s 300ms/step - loss: 8.2142e-04 - val_loss: 0.0074\n",
      "Epoch 22/100\n",
      "13/13 [==============================] - 4s 298ms/step - loss: 8.0681e-04 - val_loss: 0.0070\n",
      "Epoch 23/100\n",
      "13/13 [==============================] - 4s 299ms/step - loss: 7.9196e-04 - val_loss: 0.0073\n",
      "Epoch 24/100\n",
      "13/13 [==============================] - 4s 298ms/step - loss: 7.6423e-04 - val_loss: 0.0063\n",
      "Epoch 25/100\n",
      "13/13 [==============================] - 4s 295ms/step - loss: 7.6198e-04 - val_loss: 0.0062\n",
      "Epoch 26/100\n",
      "13/13 [==============================] - 4s 296ms/step - loss: 7.1729e-04 - val_loss: 0.0060\n",
      "Epoch 27/100\n",
      "13/13 [==============================] - 4s 294ms/step - loss: 7.3153e-04 - val_loss: 0.0061\n",
      "Epoch 28/100\n",
      "13/13 [==============================] - 4s 297ms/step - loss: 7.7407e-04 - val_loss: 0.0090\n",
      "Epoch 29/100\n",
      "13/13 [==============================] - 4s 295ms/step - loss: 7.3598e-04 - val_loss: 0.0062\n",
      "Epoch 30/100\n",
      "13/13 [==============================] - 4s 298ms/step - loss: 6.7226e-04 - val_loss: 0.0056\n",
      "Epoch 31/100\n",
      "13/13 [==============================] - 4s 294ms/step - loss: 6.5963e-04 - val_loss: 0.0061\n",
      "Epoch 32/100\n",
      "13/13 [==============================] - 4s 295ms/step - loss: 6.4841e-04 - val_loss: 0.0050\n",
      "Epoch 33/100\n",
      "13/13 [==============================] - 4s 295ms/step - loss: 6.5244e-04 - val_loss: 0.0065\n",
      "Epoch 34/100\n",
      "13/13 [==============================] - 4s 295ms/step - loss: 6.5631e-04 - val_loss: 0.0050\n",
      "Epoch 35/100\n",
      "13/13 [==============================] - 4s 295ms/step - loss: 6.2838e-04 - val_loss: 0.0053\n",
      "Epoch 36/100\n",
      "13/13 [==============================] - 4s 295ms/step - loss: 6.0947e-04 - val_loss: 0.0050\n",
      "Epoch 37/100\n",
      "13/13 [==============================] - 4s 296ms/step - loss: 6.3524e-04 - val_loss: 0.0055\n",
      "Epoch 38/100\n",
      "13/13 [==============================] - 4s 303ms/step - loss: 6.0065e-04 - val_loss: 0.0049\n",
      "Epoch 39/100\n",
      "13/13 [==============================] - 4s 297ms/step - loss: 5.9052e-04 - val_loss: 0.0054\n",
      "Epoch 40/100\n",
      "13/13 [==============================] - 4s 296ms/step - loss: 6.1558e-04 - val_loss: 0.0052\n",
      "Epoch 41/100\n",
      "13/13 [==============================] - 4s 299ms/step - loss: 6.3914e-04 - val_loss: 0.0040\n",
      "Epoch 42/100\n",
      "13/13 [==============================] - 4s 295ms/step - loss: 6.0100e-04 - val_loss: 0.0057\n",
      "Epoch 43/100\n",
      "13/13 [==============================] - 4s 295ms/step - loss: 5.7117e-04 - val_loss: 0.0041\n",
      "Epoch 44/100\n",
      "13/13 [==============================] - 4s 294ms/step - loss: 5.7526e-04 - val_loss: 0.0044\n",
      "Epoch 45/100\n",
      "13/13 [==============================] - 4s 295ms/step - loss: 5.5586e-04 - val_loss: 0.0054\n",
      "Epoch 46/100\n",
      "13/13 [==============================] - 4s 296ms/step - loss: 5.6657e-04 - val_loss: 0.0052\n",
      "Epoch 47/100\n",
      "13/13 [==============================] - 4s 296ms/step - loss: 5.7997e-04 - val_loss: 0.0037\n",
      "Epoch 48/100\n",
      "13/13 [==============================] - 4s 296ms/step - loss: 5.6805e-04 - val_loss: 0.0034\n",
      "Epoch 49/100\n",
      "13/13 [==============================] - 4s 296ms/step - loss: 5.6535e-04 - val_loss: 0.0042\n",
      "Epoch 50/100\n",
      "13/13 [==============================] - 4s 296ms/step - loss: 5.9211e-04 - val_loss: 0.0037\n",
      "Epoch 51/100\n",
      "13/13 [==============================] - 4s 298ms/step - loss: 5.4039e-04 - val_loss: 0.0048\n",
      "Epoch 52/100\n",
      "13/13 [==============================] - 4s 297ms/step - loss: 5.2298e-04 - val_loss: 0.0071\n",
      "Epoch 53/100\n",
      "13/13 [==============================] - 4s 298ms/step - loss: 6.1271e-04 - val_loss: 0.0031\n",
      "Epoch 54/100\n",
      "13/13 [==============================] - 4s 296ms/step - loss: 7.9343e-04 - val_loss: 0.0038\n",
      "Epoch 55/100\n",
      "13/13 [==============================] - 4s 301ms/step - loss: 7.3689e-04 - val_loss: 0.0062\n",
      "Epoch 56/100\n",
      "13/13 [==============================] - 4s 298ms/step - loss: 5.3769e-04 - val_loss: 0.0051\n",
      "Epoch 57/100\n",
      "13/13 [==============================] - 4s 298ms/step - loss: 5.5017e-04 - val_loss: 0.0040\n",
      "Epoch 58/100\n",
      "13/13 [==============================] - 4s 296ms/step - loss: 5.9462e-04 - val_loss: 0.0037\n",
      "Epoch 59/100\n",
      "13/13 [==============================] - 4s 296ms/step - loss: 5.1394e-04 - val_loss: 0.0039\n",
      "Epoch 60/100\n",
      "13/13 [==============================] - 4s 299ms/step - loss: 5.7832e-04 - val_loss: 0.0072\n",
      "Epoch 61/100\n",
      "13/13 [==============================] - 4s 297ms/step - loss: 6.8380e-04 - val_loss: 0.0036\n",
      "Epoch 62/100\n",
      "13/13 [==============================] - 4s 297ms/step - loss: 5.5864e-04 - val_loss: 0.0052\n",
      "Epoch 63/100\n",
      "13/13 [==============================] - 4s 297ms/step - loss: 6.0166e-04 - val_loss: 0.0052\n",
      "Epoch 64/100\n",
      "13/13 [==============================] - 4s 297ms/step - loss: 5.4631e-04 - val_loss: 0.0044\n",
      "Epoch 65/100\n",
      "13/13 [==============================] - 4s 297ms/step - loss: 5.7726e-04 - val_loss: 0.0043\n",
      "Epoch 66/100\n",
      "13/13 [==============================] - 4s 296ms/step - loss: 5.2256e-04 - val_loss: 0.0043\n",
      "Epoch 67/100\n",
      "13/13 [==============================] - 4s 297ms/step - loss: 4.9625e-04 - val_loss: 0.0037\n",
      "Epoch 68/100\n",
      "13/13 [==============================] - 4s 299ms/step - loss: 4.8092e-04 - val_loss: 0.0049\n",
      "Epoch 69/100\n",
      "13/13 [==============================] - 4s 333ms/step - loss: 4.9574e-04 - val_loss: 0.0053\n",
      "Epoch 70/100\n",
      "13/13 [==============================] - 4s 301ms/step - loss: 5.1002e-04 - val_loss: 0.0037\n",
      "Epoch 71/100\n",
      "13/13 [==============================] - 4s 297ms/step - loss: 5.3121e-04 - val_loss: 0.0049\n",
      "Epoch 72/100\n",
      "13/13 [==============================] - 4s 302ms/step - loss: 5.9616e-04 - val_loss: 0.0036\n",
      "Epoch 73/100\n",
      "13/13 [==============================] - 4s 297ms/step - loss: 5.0248e-04 - val_loss: 0.0048\n",
      "Epoch 74/100\n",
      "13/13 [==============================] - 4s 298ms/step - loss: 4.8009e-04 - val_loss: 0.0051\n",
      "Epoch 75/100\n",
      "13/13 [==============================] - 4s 298ms/step - loss: 4.7056e-04 - val_loss: 0.0044\n",
      "Epoch 76/100\n",
      "13/13 [==============================] - 4s 297ms/step - loss: 4.6945e-04 - val_loss: 0.0030\n",
      "Epoch 77/100\n",
      "13/13 [==============================] - 4s 297ms/step - loss: 5.0106e-04 - val_loss: 0.0056\n",
      "Epoch 78/100\n"
     ]
    },
    {
     "name": "stdout",
     "output_type": "stream",
     "text": [
      "13/13 [==============================] - 4s 297ms/step - loss: 5.2236e-04 - val_loss: 0.0026\n",
      "Epoch 79/100\n",
      "13/13 [==============================] - 4s 300ms/step - loss: 5.5781e-04 - val_loss: 0.0059\n",
      "Epoch 80/100\n",
      "13/13 [==============================] - 4s 299ms/step - loss: 5.0609e-04 - val_loss: 0.0052\n",
      "Epoch 81/100\n",
      "13/13 [==============================] - 4s 300ms/step - loss: 4.9304e-04 - val_loss: 0.0035\n",
      "Epoch 82/100\n",
      "13/13 [==============================] - 4s 311ms/step - loss: 4.5589e-04 - val_loss: 0.0046\n",
      "Epoch 83/100\n",
      "13/13 [==============================] - 4s 294ms/step - loss: 4.2945e-04 - val_loss: 0.0028\n",
      "Epoch 84/100\n",
      "13/13 [==============================] - 4s 295ms/step - loss: 4.7094e-04 - val_loss: 0.0054\n",
      "Epoch 85/100\n",
      "13/13 [==============================] - 4s 298ms/step - loss: 4.7717e-04 - val_loss: 0.0038\n",
      "Epoch 86/100\n",
      "13/13 [==============================] - 4s 304ms/step - loss: 4.3001e-04 - val_loss: 0.0027\n",
      "Epoch 87/100\n",
      "13/13 [==============================] - 4s 297ms/step - loss: 4.2206e-04 - val_loss: 0.0034\n",
      "Epoch 88/100\n",
      "13/13 [==============================] - 4s 296ms/step - loss: 4.1827e-04 - val_loss: 0.0032\n",
      "Epoch 89/100\n",
      "13/13 [==============================] - 4s 300ms/step - loss: 4.1853e-04 - val_loss: 0.0036\n",
      "Epoch 90/100\n",
      "13/13 [==============================] - 4s 296ms/step - loss: 4.4050e-04 - val_loss: 0.0038\n",
      "Epoch 91/100\n",
      "13/13 [==============================] - 4s 295ms/step - loss: 4.1474e-04 - val_loss: 0.0029\n",
      "Epoch 92/100\n",
      "13/13 [==============================] - 4s 296ms/step - loss: 4.0952e-04 - val_loss: 0.0037\n",
      "Epoch 93/100\n",
      "13/13 [==============================] - 4s 295ms/step - loss: 3.9178e-04 - val_loss: 0.0025\n",
      "Epoch 94/100\n",
      "13/13 [==============================] - 4s 295ms/step - loss: 3.9072e-04 - val_loss: 0.0030\n",
      "Epoch 95/100\n",
      "13/13 [==============================] - 4s 297ms/step - loss: 4.2401e-04 - val_loss: 0.0046\n",
      "Epoch 96/100\n",
      "13/13 [==============================] - 4s 295ms/step - loss: 4.0778e-04 - val_loss: 0.0025\n",
      "Epoch 97/100\n",
      "13/13 [==============================] - 4s 296ms/step - loss: 3.8263e-04 - val_loss: 0.0032\n",
      "Epoch 98/100\n",
      "13/13 [==============================] - 4s 326ms/step - loss: 4.1498e-04 - val_loss: 0.0030\n",
      "Epoch 99/100\n",
      "13/13 [==============================] - 5s 383ms/step - loss: 3.8149e-04 - val_loss: 0.0030\n",
      "Epoch 100/100\n",
      "13/13 [==============================] - 4s 304ms/step - loss: 3.7222e-04 - val_loss: 0.0039\n"
     ]
    },
    {
     "data": {
      "text/plain": [
       "<tensorflow.python.keras.callbacks.History at 0x195300a81c0>"
      ]
     },
     "execution_count": 31,
     "metadata": {},
     "output_type": "execute_result"
    }
   ],
   "source": [
    "model.fit(x_train, y_train, validation_data = (x_test, y_test), epochs = 100, batch_size = 64, verbose = 1)"
   ]
  },
  {
   "cell_type": "code",
   "execution_count": 32,
   "id": "e650b018",
   "metadata": {},
   "outputs": [],
   "source": [
    "#Lets predict and check performance metrics\n",
    "train_predict = model.predict(x_train)\n",
    "test_predict = model.predict(x_test)"
   ]
  },
  {
   "cell_type": "code",
   "execution_count": 33,
   "id": "3478c7ee",
   "metadata": {},
   "outputs": [],
   "source": [
    "#Transform back to original form\n",
    "train_predict = scaler.inverse_transform(train_predict)\n",
    "test_predict = scaler.inverse_transform(test_predict)"
   ]
  },
  {
   "cell_type": "code",
   "execution_count": 34,
   "id": "aa6ecb6f",
   "metadata": {},
   "outputs": [
    {
     "data": {
      "text/plain": [
       "798.3636077875343"
      ]
     },
     "execution_count": 34,
     "metadata": {},
     "output_type": "execute_result"
    }
   ],
   "source": [
    "#Calculate RMSE performance metrics\n",
    "math.sqrt(mean_squared_error(y_train, train_predict))"
   ]
  },
  {
   "cell_type": "code",
   "execution_count": 35,
   "id": "9cb326f6",
   "metadata": {},
   "outputs": [
    {
     "data": {
      "text/plain": [
       "1328.5413074507437"
      ]
     },
     "execution_count": 35,
     "metadata": {},
     "output_type": "execute_result"
    }
   ],
   "source": [
    "#Test Data RMSE\n",
    "math.sqrt(mean_squared_error(y_test, test_predict))"
   ]
  },
  {
   "cell_type": "code",
   "execution_count": 36,
   "id": "0018f709",
   "metadata": {},
   "outputs": [
    {
     "data": {
      "image/png": "[encoded data removed]",
      "text/plain": [
       "<Figure size 432x288 with 1 Axes>"
      ]
     },
     "metadata": {
      "needs_background": "light"
     },
     "output_type": "display_data"
    }
   ],
   "source": [
    "#Plotting\n",
    "\n",
    "#Shift train prediction for plotting\n",
    "look_back = 100\n",
    "trainPredictPlot = np.empty_like(df_close)\n",
    "trainPredictPlot[:,:] = np.nan\n",
    "trainPredictPlot[look_back:len(train_predict) + look_back, :] = train_predict\n",
    "\n",
    "#Shift test prediction for plotting\n",
    "testPredictPlot = np.empty_like(df_close)\n",
    "testPredictPlot[:,:] = np.nan\n",
    "testPredictPlot[len(train_predict) + (look_back * 2)+1:len(df_close) - 1, :] = test_predict\n",
    "\n",
    "#Plot baseline and predictions\n",
    "plt.plot(scaler.inverse_transform(df_close))\n",
    "plt.plot(trainPredictPlot)\n",
    "plt.plot(testPredictPlot)\n",
    "plt.show()"
   ]
  },
  {
   "cell_type": "code",
   "execution_count": 37,
   "id": "fcdd57e2",
   "metadata": {},
   "outputs": [
    {
     "data": {
      "text/plain": [
       "(307, (206, 100, 1))"
      ]
     },
     "execution_count": 37,
     "metadata": {},
     "output_type": "execute_result"
    }
   ],
   "source": [
    "len(test_data), x_test.shape"
   ]
  },
  {
   "cell_type": "code",
   "execution_count": 38,
   "id": "e1f3c5d9",
   "metadata": {},
   "outputs": [
    {
     "data": {
      "text/plain": [
       "(1, 100)"
      ]
     },
     "execution_count": 38,
     "metadata": {},
     "output_type": "execute_result"
    }
   ],
   "source": [
    "x_input = test_data[207:].reshape(1,-1)\n",
    "x_input.shape"
   ]
  },
  {
   "cell_type": "code",
   "execution_count": 39,
   "id": "403a7b74",
   "metadata": {},
   "outputs": [],
   "source": [
    "temp_input = list(x_input)\n",
    "temp_input = temp_input[0].tolist()"
   ]
  },
  {
   "cell_type": "code",
   "execution_count": 40,
   "id": "ffb75972",
   "metadata": {},
   "outputs": [
    {
     "name": "stdout",
     "output_type": "stream",
     "text": [
      "[0.8916839]\n",
      "101\n",
      "1 day input [0.94816663 0.9478738  0.94456879 0.93260407 0.92796036 0.939716\n",
      " 0.97577765 0.93507229 0.93636921 0.93590899 0.93047045 0.92603602\n",
      " 0.91348555 0.88436843 0.89114567 0.8609409  0.83408293 0.81220327\n",
      " 0.84642422 0.86491522 0.87269654 0.85249028 0.8541218  0.86847118\n",
      " 0.88315526 0.88637653 0.89763007 0.88980697 0.88072882 0.91118463\n",
      " 0.8962495  0.8619449  0.83805724 0.8176418  0.81283079 0.76463703\n",
      " 0.75417831 0.7765181  0.77388248 0.74999482 0.71640139 0.5851654\n",
      " 0.6181313  0.5423683  0.57776065 0.50279251 0.49634993 0.46330038\n",
      " 0.42079615 0.50467508 0.39264125 0.44229929 0.55847473 0.54504569\n",
      " 0.54454369 0.51513375 0.5848307  0.55696863 0.55445854 0.6620997\n",
      " 0.65042781 0.67368794 0.64791772 0.61503546 0.63026342 0.67707661\n",
      " 0.69364326 0.6882465  0.79387957 0.7999875  0.83855924 0.84922714\n",
      " 0.84788844 0.84688434 0.86803608 0.84250843 0.86360165 0.86368529\n",
      " 0.90198096 0.9474387  0.95987202 0.87902192 0.90503482 0.85441462\n",
      " 0.87403524 0.85843081 0.83178201 0.85253205 0.85884916 0.85073323\n",
      " 0.844458   0.862447   0.88478678 0.87821873 0.92503192 0.9378752\n",
      " 0.94285362 0.97477365 0.97636329 0.89168388]\n",
      "1 day output [[0.8863024]]\n",
      "2 day input [0.9478738  0.94456879 0.93260407 0.92796036 0.939716   0.97577765\n",
      " 0.93507229 0.93636921 0.93590899 0.93047045 0.92603602 0.91348555\n",
      " 0.88436843 0.89114567 0.8609409  0.83408293 0.81220327 0.84642422\n",
      " 0.86491522 0.87269654 0.85249028 0.8541218  0.86847118 0.88315526\n",
      " 0.88637653 0.89763007 0.88980697 0.88072882 0.91118463 0.8962495\n",
      " 0.8619449  0.83805724 0.8176418  0.81283079 0.76463703 0.75417831\n",
      " 0.7765181  0.77388248 0.74999482 0.71640139 0.5851654  0.6181313\n",
      " 0.5423683  0.57776065 0.50279251 0.49634993 0.46330038 0.42079615\n",
      " 0.50467508 0.39264125 0.44229929 0.55847473 0.54504569 0.54454369\n",
      " 0.51513375 0.5848307  0.55696863 0.55445854 0.6620997  0.65042781\n",
      " 0.67368794 0.64791772 0.61503546 0.63026342 0.67707661 0.69364326\n",
      " 0.6882465  0.79387957 0.7999875  0.83855924 0.84922714 0.84788844\n",
      " 0.84688434 0.86803608 0.84250843 0.86360165 0.86368529 0.90198096\n",
      " 0.9474387  0.95987202 0.87902192 0.90503482 0.85441462 0.87403524\n",
      " 0.85843081 0.83178201 0.85253205 0.85884916 0.85073323 0.844458\n",
      " 0.862447   0.88478678 0.87821873 0.92503192 0.9378752  0.94285362\n",
      " 0.97477365 0.97636329 0.89168388 0.88630241]\n",
      "2 day output [[0.8726953]]\n",
      "3 day input [0.94456879 0.93260407 0.92796036 0.939716   0.97577765 0.93507229\n",
      " 0.93636921 0.93590899 0.93047045 0.92603602 0.91348555 0.88436843\n",
      " 0.89114567 0.8609409  0.83408293 0.81220327 0.84642422 0.86491522\n",
      " 0.87269654 0.85249028 0.8541218  0.86847118 0.88315526 0.88637653\n",
      " 0.89763007 0.88980697 0.88072882 0.91118463 0.8962495  0.8619449\n",
      " 0.83805724 0.8176418  0.81283079 0.76463703 0.75417831 0.7765181\n",
      " 0.77388248 0.74999482 0.71640139 0.5851654  0.6181313  0.5423683\n",
      " 0.57776065 0.50279251 0.49634993 0.46330038 0.42079615 0.50467508\n",
      " 0.39264125 0.44229929 0.55847473 0.54504569 0.54454369 0.51513375\n",
      " 0.5848307  0.55696863 0.55445854 0.6620997  0.65042781 0.67368794\n",
      " 0.64791772 0.61503546 0.63026342 0.67707661 0.69364326 0.6882465\n",
      " 0.79387957 0.7999875  0.83855924 0.84922714 0.84788844 0.84688434\n",
      " 0.86803608 0.84250843 0.86360165 0.86368529 0.90198096 0.9474387\n",
      " 0.95987202 0.87902192 0.90503482 0.85441462 0.87403524 0.85843081\n",
      " 0.83178201 0.85253205 0.85884916 0.85073323 0.844458   0.862447\n",
      " 0.88478678 0.87821873 0.92503192 0.9378752  0.94285362 0.97477365\n",
      " 0.97636329 0.89168388 0.88630241 0.87269533]\n",
      "3 day output [[0.8563885]]\n",
      "4 day input [0.93260407 0.92796036 0.939716   0.97577765 0.93507229 0.93636921\n",
      " 0.93590899 0.93047045 0.92603602 0.91348555 0.88436843 0.89114567\n",
      " 0.8609409  0.83408293 0.81220327 0.84642422 0.86491522 0.87269654\n",
      " 0.85249028 0.8541218  0.86847118 0.88315526 0.88637653 0.89763007\n",
      " 0.88980697 0.88072882 0.91118463 0.8962495  0.8619449  0.83805724\n",
      " 0.8176418  0.81283079 0.76463703 0.75417831 0.7765181  0.77388248\n",
      " 0.74999482 0.71640139 0.5851654  0.6181313  0.5423683  0.57776065\n",
      " 0.50279251 0.49634993 0.46330038 0.42079615 0.50467508 0.39264125\n",
      " 0.44229929 0.55847473 0.54504569 0.54454369 0.51513375 0.5848307\n",
      " 0.55696863 0.55445854 0.6620997  0.65042781 0.67368794 0.64791772\n",
      " 0.61503546 0.63026342 0.67707661 0.69364326 0.6882465  0.79387957\n",
      " 0.7999875  0.83855924 0.84922714 0.84788844 0.84688434 0.86803608\n",
      " 0.84250843 0.86360165 0.86368529 0.90198096 0.9474387  0.95987202\n",
      " 0.87902192 0.90503482 0.85441462 0.87403524 0.85843081 0.83178201\n",
      " 0.85253205 0.85884916 0.85073323 0.844458   0.862447   0.88478678\n",
      " 0.87821873 0.92503192 0.9378752  0.94285362 0.97477365 0.97636329\n",
      " 0.89168388 0.88630241 0.87269533 0.85638851]\n",
      "4 day output [[0.839817]]\n",
      "5 day input [0.92796036 0.939716   0.97577765 0.93507229 0.93636921 0.93590899\n",
      " 0.93047045 0.92603602 0.91348555 0.88436843 0.89114567 0.8609409\n",
      " 0.83408293 0.81220327 0.84642422 0.86491522 0.87269654 0.85249028\n",
      " 0.8541218  0.86847118 0.88315526 0.88637653 0.89763007 0.88980697\n",
      " 0.88072882 0.91118463 0.8962495  0.8619449  0.83805724 0.8176418\n",
      " 0.81283079 0.76463703 0.75417831 0.7765181  0.77388248 0.74999482\n",
      " 0.71640139 0.5851654  0.6181313  0.5423683  0.57776065 0.50279251\n",
      " 0.49634993 0.46330038 0.42079615 0.50467508 0.39264125 0.44229929\n",
      " 0.55847473 0.54504569 0.54454369 0.51513375 0.5848307  0.55696863\n",
      " 0.55445854 0.6620997  0.65042781 0.67368794 0.64791772 0.61503546\n",
      " 0.63026342 0.67707661 0.69364326 0.6882465  0.79387957 0.7999875\n",
      " 0.83855924 0.84922714 0.84788844 0.84688434 0.86803608 0.84250843\n",
      " 0.86360165 0.86368529 0.90198096 0.9474387  0.95987202 0.87902192\n",
      " 0.90503482 0.85441462 0.87403524 0.85843081 0.83178201 0.85253205\n",
      " 0.85884916 0.85073323 0.844458   0.862447   0.88478678 0.87821873\n",
      " 0.92503192 0.9378752  0.94285362 0.97477365 0.97636329 0.89168388\n",
      " 0.88630241 0.87269533 0.85638851 0.83981699]\n",
      "5 day output [[0.82366335]]\n",
      "6 day input [0.939716   0.97577765 0.93507229 0.93636921 0.93590899 0.93047045\n",
      " 0.92603602 0.91348555 0.88436843 0.89114567 0.8609409  0.83408293\n",
      " 0.81220327 0.84642422 0.86491522 0.87269654 0.85249028 0.8541218\n",
      " 0.86847118 0.88315526 0.88637653 0.89763007 0.88980697 0.88072882\n",
      " 0.91118463 0.8962495  0.8619449  0.83805724 0.8176418  0.81283079\n",
      " 0.76463703 0.75417831 0.7765181  0.77388248 0.74999482 0.71640139\n",
      " 0.5851654  0.6181313  0.5423683  0.57776065 0.50279251 0.49634993\n",
      " 0.46330038 0.42079615 0.50467508 0.39264125 0.44229929 0.55847473\n",
      " 0.54504569 0.54454369 0.51513375 0.5848307  0.55696863 0.55445854\n",
      " 0.6620997  0.65042781 0.67368794 0.64791772 0.61503546 0.63026342\n",
      " 0.67707661 0.69364326 0.6882465  0.79387957 0.7999875  0.83855924\n",
      " 0.84922714 0.84788844 0.84688434 0.86803608 0.84250843 0.86360165\n",
      " 0.86368529 0.90198096 0.9474387  0.95987202 0.87902192 0.90503482\n",
      " 0.85441462 0.87403524 0.85843081 0.83178201 0.85253205 0.85884916\n",
      " 0.85073323 0.844458   0.862447   0.88478678 0.87821873 0.92503192\n",
      " 0.9378752  0.94285362 0.97477365 0.97636329 0.89168388 0.88630241\n",
      " 0.87269533 0.85638851 0.83981699 0.82366335]\n",
      "6 day output [[0.80644494]]\n",
      "7 day input [0.97577765 0.93507229 0.93636921 0.93590899 0.93047045 0.92603602\n",
      " 0.91348555 0.88436843 0.89114567 0.8609409  0.83408293 0.81220327\n",
      " 0.84642422 0.86491522 0.87269654 0.85249028 0.8541218  0.86847118\n",
      " 0.88315526 0.88637653 0.89763007 0.88980697 0.88072882 0.91118463\n",
      " 0.8962495  0.8619449  0.83805724 0.8176418  0.81283079 0.76463703\n",
      " 0.75417831 0.7765181  0.77388248 0.74999482 0.71640139 0.5851654\n",
      " 0.6181313  0.5423683  0.57776065 0.50279251 0.49634993 0.46330038\n",
      " 0.42079615 0.50467508 0.39264125 0.44229929 0.55847473 0.54504569\n",
      " 0.54454369 0.51513375 0.5848307  0.55696863 0.55445854 0.6620997\n",
      " 0.65042781 0.67368794 0.64791772 0.61503546 0.63026342 0.67707661\n",
      " 0.69364326 0.6882465  0.79387957 0.7999875  0.83855924 0.84922714\n",
      " 0.84788844 0.84688434 0.86803608 0.84250843 0.86360165 0.86368529\n",
      " 0.90198096 0.9474387  0.95987202 0.87902192 0.90503482 0.85441462\n",
      " 0.87403524 0.85843081 0.83178201 0.85253205 0.85884916 0.85073323\n",
      " 0.844458   0.862447   0.88478678 0.87821873 0.92503192 0.9378752\n",
      " 0.94285362 0.97477365 0.97636329 0.89168388 0.88630241 0.87269533\n",
      " 0.85638851 0.83981699 0.82366335 0.80644494]\n",
      "7 day output [[0.79058236]]\n",
      "8 day input [0.93507229 0.93636921 0.93590899 0.93047045 0.92603602 0.91348555\n",
      " 0.88436843 0.89114567 0.8609409  0.83408293 0.81220327 0.84642422\n",
      " 0.86491522 0.87269654 0.85249028 0.8541218  0.86847118 0.88315526\n",
      " 0.88637653 0.89763007 0.88980697 0.88072882 0.91118463 0.8962495\n",
      " 0.8619449  0.83805724 0.8176418  0.81283079 0.76463703 0.75417831\n",
      " 0.7765181  0.77388248 0.74999482 0.71640139 0.5851654  0.6181313\n",
      " 0.5423683  0.57776065 0.50279251 0.49634993 0.46330038 0.42079615\n",
      " 0.50467508 0.39264125 0.44229929 0.55847473 0.54504569 0.54454369\n",
      " 0.51513375 0.5848307  0.55696863 0.55445854 0.6620997  0.65042781\n",
      " 0.67368794 0.64791772 0.61503546 0.63026342 0.67707661 0.69364326\n",
      " 0.6882465  0.79387957 0.7999875  0.83855924 0.84922714 0.84788844\n",
      " 0.84688434 0.86803608 0.84250843 0.86360165 0.86368529 0.90198096\n",
      " 0.9474387  0.95987202 0.87902192 0.90503482 0.85441462 0.87403524\n",
      " 0.85843081 0.83178201 0.85253205 0.85884916 0.85073323 0.844458\n",
      " 0.862447   0.88478678 0.87821873 0.92503192 0.9378752  0.94285362\n",
      " 0.97477365 0.97636329 0.89168388 0.88630241 0.87269533 0.85638851\n",
      " 0.83981699 0.82366335 0.80644494 0.79058236]\n",
      "8 day output [[0.7762525]]\n",
      "9 day input [0.93636921 0.93590899 0.93047045 0.92603602 0.91348555 0.88436843\n",
      " 0.89114567 0.8609409  0.83408293 0.81220327 0.84642422 0.86491522\n",
      " 0.87269654 0.85249028 0.8541218  0.86847118 0.88315526 0.88637653\n",
      " 0.89763007 0.88980697 0.88072882 0.91118463 0.8962495  0.8619449\n",
      " 0.83805724 0.8176418  0.81283079 0.76463703 0.75417831 0.7765181\n",
      " 0.77388248 0.74999482 0.71640139 0.5851654  0.6181313  0.5423683\n",
      " 0.57776065 0.50279251 0.49634993 0.46330038 0.42079615 0.50467508\n",
      " 0.39264125 0.44229929 0.55847473 0.54504569 0.54454369 0.51513375\n",
      " 0.5848307  0.55696863 0.55445854 0.6620997  0.65042781 0.67368794\n",
      " 0.64791772 0.61503546 0.63026342 0.67707661 0.69364326 0.6882465\n",
      " 0.79387957 0.7999875  0.83855924 0.84922714 0.84788844 0.84688434\n",
      " 0.86803608 0.84250843 0.86360165 0.86368529 0.90198096 0.9474387\n",
      " 0.95987202 0.87902192 0.90503482 0.85441462 0.87403524 0.85843081\n",
      " 0.83178201 0.85253205 0.85884916 0.85073323 0.844458   0.862447\n",
      " 0.88478678 0.87821873 0.92503192 0.9378752  0.94285362 0.97477365\n",
      " 0.97636329 0.89168388 0.88630241 0.87269533 0.85638851 0.83981699\n",
      " 0.82366335 0.80644494 0.79058236 0.77625251]\n"
     ]
    },
    {
     "name": "stdout",
     "output_type": "stream",
     "text": [
      "9 day output [[0.7633699]]\n",
      "10 day input [0.93590899 0.93047045 0.92603602 0.91348555 0.88436843 0.89114567\n",
      " 0.8609409  0.83408293 0.81220327 0.84642422 0.86491522 0.87269654\n",
      " 0.85249028 0.8541218  0.86847118 0.88315526 0.88637653 0.89763007\n",
      " 0.88980697 0.88072882 0.91118463 0.8962495  0.8619449  0.83805724\n",
      " 0.8176418  0.81283079 0.76463703 0.75417831 0.7765181  0.77388248\n",
      " 0.74999482 0.71640139 0.5851654  0.6181313  0.5423683  0.57776065\n",
      " 0.50279251 0.49634993 0.46330038 0.42079615 0.50467508 0.39264125\n",
      " 0.44229929 0.55847473 0.54504569 0.54454369 0.51513375 0.5848307\n",
      " 0.55696863 0.55445854 0.6620997  0.65042781 0.67368794 0.64791772\n",
      " 0.61503546 0.63026342 0.67707661 0.69364326 0.6882465  0.79387957\n",
      " 0.7999875  0.83855924 0.84922714 0.84788844 0.84688434 0.86803608\n",
      " 0.84250843 0.86360165 0.86368529 0.90198096 0.9474387  0.95987202\n",
      " 0.87902192 0.90503482 0.85441462 0.87403524 0.85843081 0.83178201\n",
      " 0.85253205 0.85884916 0.85073323 0.844458   0.862447   0.88478678\n",
      " 0.87821873 0.92503192 0.9378752  0.94285362 0.97477365 0.97636329\n",
      " 0.89168388 0.88630241 0.87269533 0.85638851 0.83981699 0.82366335\n",
      " 0.80644494 0.79058236 0.77625251 0.76336992]\n",
      "10 day output [[0.7518366]]\n",
      "11 day input [0.93047045 0.92603602 0.91348555 0.88436843 0.89114567 0.8609409\n",
      " 0.83408293 0.81220327 0.84642422 0.86491522 0.87269654 0.85249028\n",
      " 0.8541218  0.86847118 0.88315526 0.88637653 0.89763007 0.88980697\n",
      " 0.88072882 0.91118463 0.8962495  0.8619449  0.83805724 0.8176418\n",
      " 0.81283079 0.76463703 0.75417831 0.7765181  0.77388248 0.74999482\n",
      " 0.71640139 0.5851654  0.6181313  0.5423683  0.57776065 0.50279251\n",
      " 0.49634993 0.46330038 0.42079615 0.50467508 0.39264125 0.44229929\n",
      " 0.55847473 0.54504569 0.54454369 0.51513375 0.5848307  0.55696863\n",
      " 0.55445854 0.6620997  0.65042781 0.67368794 0.64791772 0.61503546\n",
      " 0.63026342 0.67707661 0.69364326 0.6882465  0.79387957 0.7999875\n",
      " 0.83855924 0.84922714 0.84788844 0.84688434 0.86803608 0.84250843\n",
      " 0.86360165 0.86368529 0.90198096 0.9474387  0.95987202 0.87902192\n",
      " 0.90503482 0.85441462 0.87403524 0.85843081 0.83178201 0.85253205\n",
      " 0.85884916 0.85073323 0.844458   0.862447   0.88478678 0.87821873\n",
      " 0.92503192 0.9378752  0.94285362 0.97477365 0.97636329 0.89168388\n",
      " 0.88630241 0.87269533 0.85638851 0.83981699 0.82366335 0.80644494\n",
      " 0.79058236 0.77625251 0.76336992 0.7518366 ]\n",
      "11 day output [[0.7415424]]\n",
      "12 day input [0.92603602 0.91348555 0.88436843 0.89114567 0.8609409  0.83408293\n",
      " 0.81220327 0.84642422 0.86491522 0.87269654 0.85249028 0.8541218\n",
      " 0.86847118 0.88315526 0.88637653 0.89763007 0.88980697 0.88072882\n",
      " 0.91118463 0.8962495  0.8619449  0.83805724 0.8176418  0.81283079\n",
      " 0.76463703 0.75417831 0.7765181  0.77388248 0.74999482 0.71640139\n",
      " 0.5851654  0.6181313  0.5423683  0.57776065 0.50279251 0.49634993\n",
      " 0.46330038 0.42079615 0.50467508 0.39264125 0.44229929 0.55847473\n",
      " 0.54504569 0.54454369 0.51513375 0.5848307  0.55696863 0.55445854\n",
      " 0.6620997  0.65042781 0.67368794 0.64791772 0.61503546 0.63026342\n",
      " 0.67707661 0.69364326 0.6882465  0.79387957 0.7999875  0.83855924\n",
      " 0.84922714 0.84788844 0.84688434 0.86803608 0.84250843 0.86360165\n",
      " 0.86368529 0.90198096 0.9474387  0.95987202 0.87902192 0.90503482\n",
      " 0.85441462 0.87403524 0.85843081 0.83178201 0.85253205 0.85884916\n",
      " 0.85073323 0.844458   0.862447   0.88478678 0.87821873 0.92503192\n",
      " 0.9378752  0.94285362 0.97477365 0.97636329 0.89168388 0.88630241\n",
      " 0.87269533 0.85638851 0.83981699 0.82366335 0.80644494 0.79058236\n",
      " 0.77625251 0.76336992 0.7518366  0.7415424 ]\n",
      "12 day output [[0.73235327]]\n",
      "13 day input [0.91348555 0.88436843 0.89114567 0.8609409  0.83408293 0.81220327\n",
      " 0.84642422 0.86491522 0.87269654 0.85249028 0.8541218  0.86847118\n",
      " 0.88315526 0.88637653 0.89763007 0.88980697 0.88072882 0.91118463\n",
      " 0.8962495  0.8619449  0.83805724 0.8176418  0.81283079 0.76463703\n",
      " 0.75417831 0.7765181  0.77388248 0.74999482 0.71640139 0.5851654\n",
      " 0.6181313  0.5423683  0.57776065 0.50279251 0.49634993 0.46330038\n",
      " 0.42079615 0.50467508 0.39264125 0.44229929 0.55847473 0.54504569\n",
      " 0.54454369 0.51513375 0.5848307  0.55696863 0.55445854 0.6620997\n",
      " 0.65042781 0.67368794 0.64791772 0.61503546 0.63026342 0.67707661\n",
      " 0.69364326 0.6882465  0.79387957 0.7999875  0.83855924 0.84922714\n",
      " 0.84788844 0.84688434 0.86803608 0.84250843 0.86360165 0.86368529\n",
      " 0.90198096 0.9474387  0.95987202 0.87902192 0.90503482 0.85441462\n",
      " 0.87403524 0.85843081 0.83178201 0.85253205 0.85884916 0.85073323\n",
      " 0.844458   0.862447   0.88478678 0.87821873 0.92503192 0.9378752\n",
      " 0.94285362 0.97477365 0.97636329 0.89168388 0.88630241 0.87269533\n",
      " 0.85638851 0.83981699 0.82366335 0.80644494 0.79058236 0.77625251\n",
      " 0.76336992 0.7518366  0.7415424  0.73235327]\n",
      "13 day output [[0.7241181]]\n",
      "14 day input [0.88436843 0.89114567 0.8609409  0.83408293 0.81220327 0.84642422\n",
      " 0.86491522 0.87269654 0.85249028 0.8541218  0.86847118 0.88315526\n",
      " 0.88637653 0.89763007 0.88980697 0.88072882 0.91118463 0.8962495\n",
      " 0.8619449  0.83805724 0.8176418  0.81283079 0.76463703 0.75417831\n",
      " 0.7765181  0.77388248 0.74999482 0.71640139 0.5851654  0.6181313\n",
      " 0.5423683  0.57776065 0.50279251 0.49634993 0.46330038 0.42079615\n",
      " 0.50467508 0.39264125 0.44229929 0.55847473 0.54504569 0.54454369\n",
      " 0.51513375 0.5848307  0.55696863 0.55445854 0.6620997  0.65042781\n",
      " 0.67368794 0.64791772 0.61503546 0.63026342 0.67707661 0.69364326\n",
      " 0.6882465  0.79387957 0.7999875  0.83855924 0.84922714 0.84788844\n",
      " 0.84688434 0.86803608 0.84250843 0.86360165 0.86368529 0.90198096\n",
      " 0.9474387  0.95987202 0.87902192 0.90503482 0.85441462 0.87403524\n",
      " 0.85843081 0.83178201 0.85253205 0.85884916 0.85073323 0.844458\n",
      " 0.862447   0.88478678 0.87821873 0.92503192 0.9378752  0.94285362\n",
      " 0.97477365 0.97636329 0.89168388 0.88630241 0.87269533 0.85638851\n",
      " 0.83981699 0.82366335 0.80644494 0.79058236 0.77625251 0.76336992\n",
      " 0.7518366  0.7415424  0.73235327 0.72411811]\n",
      "14 day output [[0.7166771]]\n",
      "15 day input [0.89114567 0.8609409  0.83408293 0.81220327 0.84642422 0.86491522\n",
      " 0.87269654 0.85249028 0.8541218  0.86847118 0.88315526 0.88637653\n",
      " 0.89763007 0.88980697 0.88072882 0.91118463 0.8962495  0.8619449\n",
      " 0.83805724 0.8176418  0.81283079 0.76463703 0.75417831 0.7765181\n",
      " 0.77388248 0.74999482 0.71640139 0.5851654  0.6181313  0.5423683\n",
      " 0.57776065 0.50279251 0.49634993 0.46330038 0.42079615 0.50467508\n",
      " 0.39264125 0.44229929 0.55847473 0.54504569 0.54454369 0.51513375\n",
      " 0.5848307  0.55696863 0.55445854 0.6620997  0.65042781 0.67368794\n",
      " 0.64791772 0.61503546 0.63026342 0.67707661 0.69364326 0.6882465\n",
      " 0.79387957 0.7999875  0.83855924 0.84922714 0.84788844 0.84688434\n",
      " 0.86803608 0.84250843 0.86360165 0.86368529 0.90198096 0.9474387\n",
      " 0.95987202 0.87902192 0.90503482 0.85441462 0.87403524 0.85843081\n",
      " 0.83178201 0.85253205 0.85884916 0.85073323 0.844458   0.862447\n",
      " 0.88478678 0.87821873 0.92503192 0.9378752  0.94285362 0.97477365\n",
      " 0.97636329 0.89168388 0.88630241 0.87269533 0.85638851 0.83981699\n",
      " 0.82366335 0.80644494 0.79058236 0.77625251 0.76336992 0.7518366\n",
      " 0.7415424  0.73235327 0.72411811 0.71667713]\n",
      "15 day output [[0.70987296]]\n",
      "16 day input [0.8609409  0.83408293 0.81220327 0.84642422 0.86491522 0.87269654\n",
      " 0.85249028 0.8541218  0.86847118 0.88315526 0.88637653 0.89763007\n",
      " 0.88980697 0.88072882 0.91118463 0.8962495  0.8619449  0.83805724\n",
      " 0.8176418  0.81283079 0.76463703 0.75417831 0.7765181  0.77388248\n",
      " 0.74999482 0.71640139 0.5851654  0.6181313  0.5423683  0.57776065\n",
      " 0.50279251 0.49634993 0.46330038 0.42079615 0.50467508 0.39264125\n",
      " 0.44229929 0.55847473 0.54504569 0.54454369 0.51513375 0.5848307\n",
      " 0.55696863 0.55445854 0.6620997  0.65042781 0.67368794 0.64791772\n",
      " 0.61503546 0.63026342 0.67707661 0.69364326 0.6882465  0.79387957\n",
      " 0.7999875  0.83855924 0.84922714 0.84788844 0.84688434 0.86803608\n",
      " 0.84250843 0.86360165 0.86368529 0.90198096 0.9474387  0.95987202\n",
      " 0.87902192 0.90503482 0.85441462 0.87403524 0.85843081 0.83178201\n",
      " 0.85253205 0.85884916 0.85073323 0.844458   0.862447   0.88478678\n",
      " 0.87821873 0.92503192 0.9378752  0.94285362 0.97477365 0.97636329\n",
      " 0.89168388 0.88630241 0.87269533 0.85638851 0.83981699 0.82366335\n",
      " 0.80644494 0.79058236 0.77625251 0.76336992 0.7518366  0.7415424\n",
      " 0.73235327 0.72411811 0.71667713 0.70987296]\n",
      "16 day output [[0.7035561]]\n",
      "17 day input [0.83408293 0.81220327 0.84642422 0.86491522 0.87269654 0.85249028\n",
      " 0.8541218  0.86847118 0.88315526 0.88637653 0.89763007 0.88980697\n",
      " 0.88072882 0.91118463 0.8962495  0.8619449  0.83805724 0.8176418\n",
      " 0.81283079 0.76463703 0.75417831 0.7765181  0.77388248 0.74999482\n",
      " 0.71640139 0.5851654  0.6181313  0.5423683  0.57776065 0.50279251\n",
      " 0.49634993 0.46330038 0.42079615 0.50467508 0.39264125 0.44229929\n",
      " 0.55847473 0.54504569 0.54454369 0.51513375 0.5848307  0.55696863\n",
      " 0.55445854 0.6620997  0.65042781 0.67368794 0.64791772 0.61503546\n",
      " 0.63026342 0.67707661 0.69364326 0.6882465  0.79387957 0.7999875\n",
      " 0.83855924 0.84922714 0.84788844 0.84688434 0.86803608 0.84250843\n",
      " 0.86360165 0.86368529 0.90198096 0.9474387  0.95987202 0.87902192\n",
      " 0.90503482 0.85441462 0.87403524 0.85843081 0.83178201 0.85253205\n",
      " 0.85884916 0.85073323 0.844458   0.862447   0.88478678 0.87821873\n",
      " 0.92503192 0.9378752  0.94285362 0.97477365 0.97636329 0.89168388\n",
      " 0.88630241 0.87269533 0.85638851 0.83981699 0.82366335 0.80644494\n",
      " 0.79058236 0.77625251 0.76336992 0.7518366  0.7415424  0.73235327\n",
      " 0.72411811 0.71667713 0.70987296 0.70355612]\n",
      "17 day output [[0.69759226]]\n",
      "18 day input [0.81220327 0.84642422 0.86491522 0.87269654 0.85249028 0.8541218\n",
      " 0.86847118 0.88315526 0.88637653 0.89763007 0.88980697 0.88072882\n",
      " 0.91118463 0.8962495  0.8619449  0.83805724 0.8176418  0.81283079\n",
      " 0.76463703 0.75417831 0.7765181  0.77388248 0.74999482 0.71640139\n",
      " 0.5851654  0.6181313  0.5423683  0.57776065 0.50279251 0.49634993\n",
      " 0.46330038 0.42079615 0.50467508 0.39264125 0.44229929 0.55847473\n",
      " 0.54504569 0.54454369 0.51513375 0.5848307  0.55696863 0.55445854\n",
      " 0.6620997  0.65042781 0.67368794 0.64791772 0.61503546 0.63026342\n",
      " 0.67707661 0.69364326 0.6882465  0.79387957 0.7999875  0.83855924\n",
      " 0.84922714 0.84788844 0.84688434 0.86803608 0.84250843 0.86360165\n",
      " 0.86368529 0.90198096 0.9474387  0.95987202 0.87902192 0.90503482\n",
      " 0.85441462 0.87403524 0.85843081 0.83178201 0.85253205 0.85884916\n",
      " 0.85073323 0.844458   0.862447   0.88478678 0.87821873 0.92503192\n",
      " 0.9378752  0.94285362 0.97477365 0.97636329 0.89168388 0.88630241\n",
      " 0.87269533 0.85638851 0.83981699 0.82366335 0.80644494 0.79058236\n",
      " 0.77625251 0.76336992 0.7518366  0.7415424  0.73235327 0.72411811\n",
      " 0.71667713 0.70987296 0.70355612 0.69759226]\n"
     ]
    },
    {
     "name": "stdout",
     "output_type": "stream",
     "text": [
      "18 day output [[0.6918644]]\n",
      "19 day input [0.84642422 0.86491522 0.87269654 0.85249028 0.8541218  0.86847118\n",
      " 0.88315526 0.88637653 0.89763007 0.88980697 0.88072882 0.91118463\n",
      " 0.8962495  0.8619449  0.83805724 0.8176418  0.81283079 0.76463703\n",
      " 0.75417831 0.7765181  0.77388248 0.74999482 0.71640139 0.5851654\n",
      " 0.6181313  0.5423683  0.57776065 0.50279251 0.49634993 0.46330038\n",
      " 0.42079615 0.50467508 0.39264125 0.44229929 0.55847473 0.54504569\n",
      " 0.54454369 0.51513375 0.5848307  0.55696863 0.55445854 0.6620997\n",
      " 0.65042781 0.67368794 0.64791772 0.61503546 0.63026342 0.67707661\n",
      " 0.69364326 0.6882465  0.79387957 0.7999875  0.83855924 0.84922714\n",
      " 0.84788844 0.84688434 0.86803608 0.84250843 0.86360165 0.86368529\n",
      " 0.90198096 0.9474387  0.95987202 0.87902192 0.90503482 0.85441462\n",
      " 0.87403524 0.85843081 0.83178201 0.85253205 0.85884916 0.85073323\n",
      " 0.844458   0.862447   0.88478678 0.87821873 0.92503192 0.9378752\n",
      " 0.94285362 0.97477365 0.97636329 0.89168388 0.88630241 0.87269533\n",
      " 0.85638851 0.83981699 0.82366335 0.80644494 0.79058236 0.77625251\n",
      " 0.76336992 0.7518366  0.7415424  0.73235327 0.72411811 0.71667713\n",
      " 0.70987296 0.70355612 0.69759226 0.69186437]\n",
      "19 day output [[0.68627447]]\n",
      "20 day input [0.86491522 0.87269654 0.85249028 0.8541218  0.86847118 0.88315526\n",
      " 0.88637653 0.89763007 0.88980697 0.88072882 0.91118463 0.8962495\n",
      " 0.8619449  0.83805724 0.8176418  0.81283079 0.76463703 0.75417831\n",
      " 0.7765181  0.77388248 0.74999482 0.71640139 0.5851654  0.6181313\n",
      " 0.5423683  0.57776065 0.50279251 0.49634993 0.46330038 0.42079615\n",
      " 0.50467508 0.39264125 0.44229929 0.55847473 0.54504569 0.54454369\n",
      " 0.51513375 0.5848307  0.55696863 0.55445854 0.6620997  0.65042781\n",
      " 0.67368794 0.64791772 0.61503546 0.63026342 0.67707661 0.69364326\n",
      " 0.6882465  0.79387957 0.7999875  0.83855924 0.84922714 0.84788844\n",
      " 0.84688434 0.86803608 0.84250843 0.86360165 0.86368529 0.90198096\n",
      " 0.9474387  0.95987202 0.87902192 0.90503482 0.85441462 0.87403524\n",
      " 0.85843081 0.83178201 0.85253205 0.85884916 0.85073323 0.844458\n",
      " 0.862447   0.88478678 0.87821873 0.92503192 0.9378752  0.94285362\n",
      " 0.97477365 0.97636329 0.89168388 0.88630241 0.87269533 0.85638851\n",
      " 0.83981699 0.82366335 0.80644494 0.79058236 0.77625251 0.76336992\n",
      " 0.7518366  0.7415424  0.73235327 0.72411811 0.71667713 0.70987296\n",
      " 0.70355612 0.69759226 0.69186437 0.68627447]\n",
      "20 day output [[0.680745]]\n",
      "21 day input [0.87269654 0.85249028 0.8541218  0.86847118 0.88315526 0.88637653\n",
      " 0.89763007 0.88980697 0.88072882 0.91118463 0.8962495  0.8619449\n",
      " 0.83805724 0.8176418  0.81283079 0.76463703 0.75417831 0.7765181\n",
      " 0.77388248 0.74999482 0.71640139 0.5851654  0.6181313  0.5423683\n",
      " 0.57776065 0.50279251 0.49634993 0.46330038 0.42079615 0.50467508\n",
      " 0.39264125 0.44229929 0.55847473 0.54504569 0.54454369 0.51513375\n",
      " 0.5848307  0.55696863 0.55445854 0.6620997  0.65042781 0.67368794\n",
      " 0.64791772 0.61503546 0.63026342 0.67707661 0.69364326 0.6882465\n",
      " 0.79387957 0.7999875  0.83855924 0.84922714 0.84788844 0.84688434\n",
      " 0.86803608 0.84250843 0.86360165 0.86368529 0.90198096 0.9474387\n",
      " 0.95987202 0.87902192 0.90503482 0.85441462 0.87403524 0.85843081\n",
      " 0.83178201 0.85253205 0.85884916 0.85073323 0.844458   0.862447\n",
      " 0.88478678 0.87821873 0.92503192 0.9378752  0.94285362 0.97477365\n",
      " 0.97636329 0.89168388 0.88630241 0.87269533 0.85638851 0.83981699\n",
      " 0.82366335 0.80644494 0.79058236 0.77625251 0.76336992 0.7518366\n",
      " 0.7415424  0.73235327 0.72411811 0.71667713 0.70987296 0.70355612\n",
      " 0.69759226 0.69186437 0.68627447 0.68074501]\n",
      "21 day output [[0.6752161]]\n",
      "22 day input [0.85249028 0.8541218  0.86847118 0.88315526 0.88637653 0.89763007\n",
      " 0.88980697 0.88072882 0.91118463 0.8962495  0.8619449  0.83805724\n",
      " 0.8176418  0.81283079 0.76463703 0.75417831 0.7765181  0.77388248\n",
      " 0.74999482 0.71640139 0.5851654  0.6181313  0.5423683  0.57776065\n",
      " 0.50279251 0.49634993 0.46330038 0.42079615 0.50467508 0.39264125\n",
      " 0.44229929 0.55847473 0.54504569 0.54454369 0.51513375 0.5848307\n",
      " 0.55696863 0.55445854 0.6620997  0.65042781 0.67368794 0.64791772\n",
      " 0.61503546 0.63026342 0.67707661 0.69364326 0.6882465  0.79387957\n",
      " 0.7999875  0.83855924 0.84922714 0.84788844 0.84688434 0.86803608\n",
      " 0.84250843 0.86360165 0.86368529 0.90198096 0.9474387  0.95987202\n",
      " 0.87902192 0.90503482 0.85441462 0.87403524 0.85843081 0.83178201\n",
      " 0.85253205 0.85884916 0.85073323 0.844458   0.862447   0.88478678\n",
      " 0.87821873 0.92503192 0.9378752  0.94285362 0.97477365 0.97636329\n",
      " 0.89168388 0.88630241 0.87269533 0.85638851 0.83981699 0.82366335\n",
      " 0.80644494 0.79058236 0.77625251 0.76336992 0.7518366  0.7415424\n",
      " 0.73235327 0.72411811 0.71667713 0.70987296 0.70355612 0.69759226\n",
      " 0.69186437 0.68627447 0.68074501 0.67521608]\n",
      "22 day output [[0.6696453]]\n",
      "23 day input [0.8541218  0.86847118 0.88315526 0.88637653 0.89763007 0.88980697\n",
      " 0.88072882 0.91118463 0.8962495  0.8619449  0.83805724 0.8176418\n",
      " 0.81283079 0.76463703 0.75417831 0.7765181  0.77388248 0.74999482\n",
      " 0.71640139 0.5851654  0.6181313  0.5423683  0.57776065 0.50279251\n",
      " 0.49634993 0.46330038 0.42079615 0.50467508 0.39264125 0.44229929\n",
      " 0.55847473 0.54504569 0.54454369 0.51513375 0.5848307  0.55696863\n",
      " 0.55445854 0.6620997  0.65042781 0.67368794 0.64791772 0.61503546\n",
      " 0.63026342 0.67707661 0.69364326 0.6882465  0.79387957 0.7999875\n",
      " 0.83855924 0.84922714 0.84788844 0.84688434 0.86803608 0.84250843\n",
      " 0.86360165 0.86368529 0.90198096 0.9474387  0.95987202 0.87902192\n",
      " 0.90503482 0.85441462 0.87403524 0.85843081 0.83178201 0.85253205\n",
      " 0.85884916 0.85073323 0.844458   0.862447   0.88478678 0.87821873\n",
      " 0.92503192 0.9378752  0.94285362 0.97477365 0.97636329 0.89168388\n",
      " 0.88630241 0.87269533 0.85638851 0.83981699 0.82366335 0.80644494\n",
      " 0.79058236 0.77625251 0.76336992 0.7518366  0.7415424  0.73235327\n",
      " 0.72411811 0.71667713 0.70987296 0.70355612 0.69759226 0.69186437\n",
      " 0.68627447 0.68074501 0.67521608 0.66964531]\n",
      "23 day output [[0.66400445]]\n",
      "24 day input [0.86847118 0.88315526 0.88637653 0.89763007 0.88980697 0.88072882\n",
      " 0.91118463 0.8962495  0.8619449  0.83805724 0.8176418  0.81283079\n",
      " 0.76463703 0.75417831 0.7765181  0.77388248 0.74999482 0.71640139\n",
      " 0.5851654  0.6181313  0.5423683  0.57776065 0.50279251 0.49634993\n",
      " 0.46330038 0.42079615 0.50467508 0.39264125 0.44229929 0.55847473\n",
      " 0.54504569 0.54454369 0.51513375 0.5848307  0.55696863 0.55445854\n",
      " 0.6620997  0.65042781 0.67368794 0.64791772 0.61503546 0.63026342\n",
      " 0.67707661 0.69364326 0.6882465  0.79387957 0.7999875  0.83855924\n",
      " 0.84922714 0.84788844 0.84688434 0.86803608 0.84250843 0.86360165\n",
      " 0.86368529 0.90198096 0.9474387  0.95987202 0.87902192 0.90503482\n",
      " 0.85441462 0.87403524 0.85843081 0.83178201 0.85253205 0.85884916\n",
      " 0.85073323 0.844458   0.862447   0.88478678 0.87821873 0.92503192\n",
      " 0.9378752  0.94285362 0.97477365 0.97636329 0.89168388 0.88630241\n",
      " 0.87269533 0.85638851 0.83981699 0.82366335 0.80644494 0.79058236\n",
      " 0.77625251 0.76336992 0.7518366  0.7415424  0.73235327 0.72411811\n",
      " 0.71667713 0.70987296 0.70355612 0.69759226 0.69186437 0.68627447\n",
      " 0.68074501 0.67521608 0.66964531 0.66400445]\n",
      "24 day output [[0.658278]]\n",
      "25 day input [0.88315526 0.88637653 0.89763007 0.88980697 0.88072882 0.91118463\n",
      " 0.8962495  0.8619449  0.83805724 0.8176418  0.81283079 0.76463703\n",
      " 0.75417831 0.7765181  0.77388248 0.74999482 0.71640139 0.5851654\n",
      " 0.6181313  0.5423683  0.57776065 0.50279251 0.49634993 0.46330038\n",
      " 0.42079615 0.50467508 0.39264125 0.44229929 0.55847473 0.54504569\n",
      " 0.54454369 0.51513375 0.5848307  0.55696863 0.55445854 0.6620997\n",
      " 0.65042781 0.67368794 0.64791772 0.61503546 0.63026342 0.67707661\n",
      " 0.69364326 0.6882465  0.79387957 0.7999875  0.83855924 0.84922714\n",
      " 0.84788844 0.84688434 0.86803608 0.84250843 0.86360165 0.86368529\n",
      " 0.90198096 0.9474387  0.95987202 0.87902192 0.90503482 0.85441462\n",
      " 0.87403524 0.85843081 0.83178201 0.85253205 0.85884916 0.85073323\n",
      " 0.844458   0.862447   0.88478678 0.87821873 0.92503192 0.9378752\n",
      " 0.94285362 0.97477365 0.97636329 0.89168388 0.88630241 0.87269533\n",
      " 0.85638851 0.83981699 0.82366335 0.80644494 0.79058236 0.77625251\n",
      " 0.76336992 0.7518366  0.7415424  0.73235327 0.72411811 0.71667713\n",
      " 0.70987296 0.70355612 0.69759226 0.69186437 0.68627447 0.68074501\n",
      " 0.67521608 0.66964531 0.66400445 0.65827799]\n",
      "25 day output [[0.652459]]\n",
      "26 day input [0.88637653 0.89763007 0.88980697 0.88072882 0.91118463 0.8962495\n",
      " 0.8619449  0.83805724 0.8176418  0.81283079 0.76463703 0.75417831\n",
      " 0.7765181  0.77388248 0.74999482 0.71640139 0.5851654  0.6181313\n",
      " 0.5423683  0.57776065 0.50279251 0.49634993 0.46330038 0.42079615\n",
      " 0.50467508 0.39264125 0.44229929 0.55847473 0.54504569 0.54454369\n",
      " 0.51513375 0.5848307  0.55696863 0.55445854 0.6620997  0.65042781\n",
      " 0.67368794 0.64791772 0.61503546 0.63026342 0.67707661 0.69364326\n",
      " 0.6882465  0.79387957 0.7999875  0.83855924 0.84922714 0.84788844\n",
      " 0.84688434 0.86803608 0.84250843 0.86360165 0.86368529 0.90198096\n",
      " 0.9474387  0.95987202 0.87902192 0.90503482 0.85441462 0.87403524\n",
      " 0.85843081 0.83178201 0.85253205 0.85884916 0.85073323 0.844458\n",
      " 0.862447   0.88478678 0.87821873 0.92503192 0.9378752  0.94285362\n",
      " 0.97477365 0.97636329 0.89168388 0.88630241 0.87269533 0.85638851\n",
      " 0.83981699 0.82366335 0.80644494 0.79058236 0.77625251 0.76336992\n",
      " 0.7518366  0.7415424  0.73235327 0.72411811 0.71667713 0.70987296\n",
      " 0.70355612 0.69759226 0.69186437 0.68627447 0.68074501 0.67521608\n",
      " 0.66964531 0.66400445 0.65827799 0.65245903]\n"
     ]
    },
    {
     "name": "stdout",
     "output_type": "stream",
     "text": [
      "26 day output [[0.64654666]]\n",
      "27 day input [0.89763007 0.88980697 0.88072882 0.91118463 0.8962495  0.8619449\n",
      " 0.83805724 0.8176418  0.81283079 0.76463703 0.75417831 0.7765181\n",
      " 0.77388248 0.74999482 0.71640139 0.5851654  0.6181313  0.5423683\n",
      " 0.57776065 0.50279251 0.49634993 0.46330038 0.42079615 0.50467508\n",
      " 0.39264125 0.44229929 0.55847473 0.54504569 0.54454369 0.51513375\n",
      " 0.5848307  0.55696863 0.55445854 0.6620997  0.65042781 0.67368794\n",
      " 0.64791772 0.61503546 0.63026342 0.67707661 0.69364326 0.6882465\n",
      " 0.79387957 0.7999875  0.83855924 0.84922714 0.84788844 0.84688434\n",
      " 0.86803608 0.84250843 0.86360165 0.86368529 0.90198096 0.9474387\n",
      " 0.95987202 0.87902192 0.90503482 0.85441462 0.87403524 0.85843081\n",
      " 0.83178201 0.85253205 0.85884916 0.85073323 0.844458   0.862447\n",
      " 0.88478678 0.87821873 0.92503192 0.9378752  0.94285362 0.97477365\n",
      " 0.97636329 0.89168388 0.88630241 0.87269533 0.85638851 0.83981699\n",
      " 0.82366335 0.80644494 0.79058236 0.77625251 0.76336992 0.7518366\n",
      " 0.7415424  0.73235327 0.72411811 0.71667713 0.70987296 0.70355612\n",
      " 0.69759226 0.69186437 0.68627447 0.68074501 0.67521608 0.66964531\n",
      " 0.66400445 0.65827799 0.65245903 0.64654666]\n",
      "27 day output [[0.6405444]]\n",
      "28 day input [0.88980697 0.88072882 0.91118463 0.8962495  0.8619449  0.83805724\n",
      " 0.8176418  0.81283079 0.76463703 0.75417831 0.7765181  0.77388248\n",
      " 0.74999482 0.71640139 0.5851654  0.6181313  0.5423683  0.57776065\n",
      " 0.50279251 0.49634993 0.46330038 0.42079615 0.50467508 0.39264125\n",
      " 0.44229929 0.55847473 0.54504569 0.54454369 0.51513375 0.5848307\n",
      " 0.55696863 0.55445854 0.6620997  0.65042781 0.67368794 0.64791772\n",
      " 0.61503546 0.63026342 0.67707661 0.69364326 0.6882465  0.79387957\n",
      " 0.7999875  0.83855924 0.84922714 0.84788844 0.84688434 0.86803608\n",
      " 0.84250843 0.86360165 0.86368529 0.90198096 0.9474387  0.95987202\n",
      " 0.87902192 0.90503482 0.85441462 0.87403524 0.85843081 0.83178201\n",
      " 0.85253205 0.85884916 0.85073323 0.844458   0.862447   0.88478678\n",
      " 0.87821873 0.92503192 0.9378752  0.94285362 0.97477365 0.97636329\n",
      " 0.89168388 0.88630241 0.87269533 0.85638851 0.83981699 0.82366335\n",
      " 0.80644494 0.79058236 0.77625251 0.76336992 0.7518366  0.7415424\n",
      " 0.73235327 0.72411811 0.71667713 0.70987296 0.70355612 0.69759226\n",
      " 0.69186437 0.68627447 0.68074501 0.67521608 0.66964531 0.66400445\n",
      " 0.65827799 0.65245903 0.64654666 0.64054441]\n",
      "28 day output [[0.6344563]]\n",
      "29 day input [0.88072882 0.91118463 0.8962495  0.8619449  0.83805724 0.8176418\n",
      " 0.81283079 0.76463703 0.75417831 0.7765181  0.77388248 0.74999482\n",
      " 0.71640139 0.5851654  0.6181313  0.5423683  0.57776065 0.50279251\n",
      " 0.49634993 0.46330038 0.42079615 0.50467508 0.39264125 0.44229929\n",
      " 0.55847473 0.54504569 0.54454369 0.51513375 0.5848307  0.55696863\n",
      " 0.55445854 0.6620997  0.65042781 0.67368794 0.64791772 0.61503546\n",
      " 0.63026342 0.67707661 0.69364326 0.6882465  0.79387957 0.7999875\n",
      " 0.83855924 0.84922714 0.84788844 0.84688434 0.86803608 0.84250843\n",
      " 0.86360165 0.86368529 0.90198096 0.9474387  0.95987202 0.87902192\n",
      " 0.90503482 0.85441462 0.87403524 0.85843081 0.83178201 0.85253205\n",
      " 0.85884916 0.85073323 0.844458   0.862447   0.88478678 0.87821873\n",
      " 0.92503192 0.9378752  0.94285362 0.97477365 0.97636329 0.89168388\n",
      " 0.88630241 0.87269533 0.85638851 0.83981699 0.82366335 0.80644494\n",
      " 0.79058236 0.77625251 0.76336992 0.7518366  0.7415424  0.73235327\n",
      " 0.72411811 0.71667713 0.70987296 0.70355612 0.69759226 0.69186437\n",
      " 0.68627447 0.68074501 0.67521608 0.66964531 0.66400445 0.65827799\n",
      " 0.65245903 0.64654666 0.64054441 0.63445628]\n",
      "29 day output [[0.6282855]]\n",
      "[[0.8916838765144348], [0.8863024115562439], [0.8726953268051147], [0.856388509273529], [0.8398169875144958], [0.8236633539199829], [0.8064449429512024], [0.7905823588371277], [0.7762525081634521], [0.7633699178695679], [0.7518365979194641], [0.741542398929596], [0.7323532700538635], [0.7241181135177612], [0.7166771292686462], [0.7098729610443115], [0.7035561203956604], [0.6975922584533691], [0.6918643712997437], [0.6862744688987732], [0.680745005607605], [0.6752160787582397], [0.6696453094482422], [0.6640044450759888], [0.6582779884338379], [0.6524590253829956], [0.6465466618537903], [0.6405444145202637], [0.6344562768936157], [0.6282855272293091]]\n"
     ]
    }
   ],
   "source": [
    "lst_output=[]\n",
    "n_steps=100\n",
    "nextNumberOfDays = 30\n",
    "i=0\n",
    "\n",
    "while(i<nextNumberOfDays):\n",
    "    \n",
    "    if(len(temp_input)>100):\n",
    "        x_input=np.array(temp_input[1:])\n",
    "        print(\"{} day input {}\".format(i,x_input))\n",
    "        x_input=x_input.reshape(1,-1)\n",
    "        x_input = x_input.reshape((1, n_steps, 1))\n",
    "        yhat = model.predict(x_input, verbose=0)\n",
    "        print(\"{} day output {}\".format(i,yhat))\n",
    "        temp_input.extend(yhat[0].tolist())\n",
    "        temp_input=temp_input[1:]\n",
    "        lst_output.extend(yhat.tolist())\n",
    "        i=i+1\n",
    "    else:\n",
    "        x_input = x_input.reshape((1, n_steps,1))\n",
    "        yhat = model.predict(x_input, verbose=0)\n",
    "        print(yhat[0])\n",
    "        temp_input.extend(yhat[0].tolist())\n",
    "        print(len(temp_input))\n",
    "        lst_output.extend(yhat.tolist())\n",
    "        i=i+1\n",
    "    \n",
    "\n",
    "print(lst_output)"
   ]
  },
  {
   "cell_type": "code",
   "execution_count": 41,
   "id": "3747f57b",
   "metadata": {},
   "outputs": [],
   "source": [
    "day_new = np.arange(1,101)\n",
    "day_pred = np.arange(101,131)"
   ]
  },
  {
   "cell_type": "code",
   "execution_count": 42,
   "id": "eef3ceb3",
   "metadata": {},
   "outputs": [],
   "source": [
    "df3 = df_close.tolist()\n",
    "df3.extend(lst_output)"
   ]
  },
  {
   "cell_type": "code",
   "execution_count": 43,
   "id": "15fcc74f",
   "metadata": {},
   "outputs": [
    {
     "data": {
      "text/plain": [
       "1228"
      ]
     },
     "execution_count": 43,
     "metadata": {},
     "output_type": "execute_result"
    }
   ],
   "source": [
    "len(df_close)"
   ]
  },
  {
   "cell_type": "code",
   "execution_count": 44,
   "id": "7aca52a3",
   "metadata": {},
   "outputs": [
    {
     "data": {
      "text/plain": [
       "[<matplotlib.lines.Line2D at 0x19542198400>]"
      ]
     },
     "execution_count": 44,
     "metadata": {},
     "output_type": "execute_result"
    },
    {
     "data": {
      "image/png": "[encoded data removed]",
      "text/plain": [
       "<Figure size 432x288 with 1 Axes>"
      ]
     },
     "metadata": {
      "needs_background": "light"
     },
     "output_type": "display_data"
    }
   ],
   "source": [
    "plt.plot(day_new, scaler.inverse_transform(df_close[1128:]))\n",
    "plt.plot(day_pred, scaler.inverse_transform(lst_output))"
   ]
  },
  {
   "cell_type": "code",
   "execution_count": null,
   "id": "c63cb963",
   "metadata": {},
   "outputs": [],
   "source": []
  }
 ],
 "metadata": {
  "kernelspec": {
   "display_name": "Python 3",
   "language": "python",
   "name": "python3"
  },
  "language_info": {
   "codemirror_mode": {
    "name": "ipython",
    "version": 3
   },
   "file_extension": ".py",
   "mimetype": "text/x-python",
   "name": "python",
   "nbconvert_exporter": "python",
   "pygments_lexer": "ipython3",
   "version": "3.8.8"
  }
 },
 "nbformat": 4,
 "nbformat_minor": 5
}
